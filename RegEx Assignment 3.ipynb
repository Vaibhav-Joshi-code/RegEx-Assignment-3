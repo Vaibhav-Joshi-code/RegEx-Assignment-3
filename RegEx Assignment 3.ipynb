{
 "cells": [
  {
   "cell_type": "code",
   "execution_count": 1,
   "id": "97aff8a0",
   "metadata": {},
   "outputs": [
    {
     "name": "stdout",
     "output_type": "stream",
     "text": [
      "Enter a Number : 10\n",
      "0 1 1 2 3 5 8 13 21 34 "
     ]
    }
   ],
   "source": [
    "## Q1\n",
    "def fibonacci(inp) :\n",
    "    if inp <= 1 :\n",
    "        return inp\n",
    "    else : \n",
    "        return (fibonacci(inp-1) + fibonacci(inp-2))\n",
    "    \n",
    "n = int(input(\"Enter a Number : \"))\n",
    "\n",
    "if n < 0 :\n",
    "    print(\"Please Enter Positive Number \")\n",
    "else :\n",
    "    for i in range(n) :\n",
    "        print(fibonacci(i), end = \" \")"
   ]
  },
  {
   "cell_type": "code",
   "execution_count": 3,
   "id": "e3fa288a",
   "metadata": {},
   "outputs": [
    {
     "name": "stdout",
     "output_type": "stream",
     "text": [
      "Enter first Number : 44\n",
      "Enter second Number : 22\n",
      "GCD of ({inp1},{inp2}) =  22\n"
     ]
    }
   ],
   "source": [
    "## Q2\n",
    "def gcd(n1, n2) :\n",
    "    if n2 == 0 :\n",
    "        return n1\n",
    "    else :\n",
    "        return gcd(n2, n1 % n2)\n",
    "        \n",
    "num1 = int(input(\"Enter first Number : \"))\n",
    "num2 = int(input(\"Enter second Number : \"))\n",
    "\n",
    "print(\"GCD of ({inp1},{inp2}) = \", gcd(num1, num2))"
   ]
  },
  {
   "cell_type": "code",
   "execution_count": 4,
   "id": "a5e10e14",
   "metadata": {},
   "outputs": [
    {
     "name": "stdout",
     "output_type": "stream",
     "text": [
      "Enter first Number : 6\n",
      "Enter second Number : 4\n",
      "LCM of (6,4) =  12.0\n"
     ]
    }
   ],
   "source": [
    "## Q3\n",
    "def gcd(n1, n2) :\n",
    "    if n2 == 0 :\n",
    "        return n1\n",
    "    else :\n",
    "        return gcd(n2, n1 % n2)\n",
    "    \n",
    "def lcm(n1, n2) :\n",
    "    return (n1 / gcd(n1,n2)) * n2\n",
    "\n",
    "num1 = int(input(\"Enter first Number : \"))\n",
    "num2 = int(input(\"Enter second Number : \"))\n",
    "\n",
    "print(f\"LCM of ({num1},{num2}) = \", lcm(num1, num2))"
   ]
  }
 ],
 "metadata": {
  "kernelspec": {
   "display_name": "Python 3",
   "language": "python",
   "name": "python3"
  },
  "language_info": {
   "codemirror_mode": {
    "name": "ipython",
    "version": 3
   },
   "file_extension": ".py",
   "mimetype": "text/x-python",
   "name": "python",
   "nbconvert_exporter": "python",
   "pygments_lexer": "ipython3",
   "version": "3.8.8"
  }
 },
 "nbformat": 4,
 "nbformat_minor": 5
}
